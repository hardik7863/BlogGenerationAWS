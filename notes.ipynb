{
 "cells": [
  {
   "cell_type": "markdown",
   "metadata": {},
   "source": [
    "If you want to add the package which is not available in lambda function\n",
    "you need to add the layer in lambda function\n",
    "\n",
    "here we will create the layer of updated boto3 package\n",
    "\n"
   ]
  },
  {
   "cell_type": "markdown",
   "metadata": {},
   "source": [
    "- create a folder with name boto3_layer\n",
    "\n",
    "- then run this command for installing a library inside a folder\n",
    "\n",
    "```sh\n",
    " pip install boto3 -t python/\n",
    " ```"
   ]
  },
  {
   "cell_type": "markdown",
   "metadata": {},
   "source": []
  }
 ],
 "metadata": {
  "language_info": {
   "name": "python"
  }
 },
 "nbformat": 4,
 "nbformat_minor": 2
}
